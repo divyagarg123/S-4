{
  "nbformat": 4,
  "nbformat_minor": 0,
  "metadata": {
    "colab": {
      "provenance": []
    },
    "kernelspec": {
      "name": "python3",
      "display_name": "Python 3"
    },
    "language_info": {
      "name": "python"
    },
    "accelerator": "GPU",
    "gpuClass": "standard"
  },
  "cells": [
    {
      "cell_type": "code",
      "execution_count": 33,
      "metadata": {
        "id": "CiOEH2EgaSxk"
      },
      "outputs": [],
      "source": [
        "from __future__ import print_function\n",
        "import torch\n",
        "import torch.nn as nn\n",
        "import torch.nn.functional as F\n",
        "import torch.optim as optim\n",
        "from torchvision import datasets, transforms"
      ]
    },
    {
      "cell_type": "code",
      "source": [
        "train_transforms = transforms.Compose([transforms.RandomRotation((-5.0, 5.0), fill=(1,)),\n",
        "                                       transforms.ToTensor(),\n",
        "                                       transforms.Normalize((0.1307), (0.3081))\n",
        "                                       ])\n",
        "test_transforms = transforms.Compose([transforms.ToTensor(),\n",
        "                                      transforms.Normalize((0.1307),(0.3081))\n",
        "    \n",
        "])"
      ],
      "metadata": {
        "id": "FKdzbWYTa8PG"
      },
      "execution_count": 34,
      "outputs": []
    },
    {
      "cell_type": "code",
      "source": [
        "train= datasets.MNIST('./data', train=True, download=True, transform = train_transforms)\n",
        "test = datasets.MNIST('./data', train=True, download=True, transform = test_transforms)"
      ],
      "metadata": {
        "id": "yG4x2yuMbVcz"
      },
      "execution_count": 35,
      "outputs": []
    },
    {
      "cell_type": "code",
      "source": [
        "SEED =1\n",
        "cuda = torch.cuda.is_available()\n",
        "print(\"CUDA Available\", cuda)\n",
        "torch.manual_seed(SEED)\n",
        "\n",
        "if cuda:\n",
        "  torch.cuda.manual_seed(SEED)\n",
        "\n",
        "dataloader_args = dict(shuffle=True, batch_size=128, num_workers=2, pin_memory=True)  if cuda else dict(shuffle=True, batch_size=64)\n",
        "\n",
        "train_loader = torch.utils.data.DataLoader(train, **dataloader_args)\n",
        "test_loader = torch.utils.data.DataLoader(test, **dataloader_args)\n"
      ],
      "metadata": {
        "colab": {
          "base_uri": "https://localhost:8080/"
        },
        "id": "_j2Oio_Pb3Xs",
        "outputId": "284bc967-f42a-4109-be98-d211604b42c5"
      },
      "execution_count": 36,
      "outputs": [
        {
          "output_type": "stream",
          "name": "stdout",
          "text": [
            "CUDA Available True\n"
          ]
        }
      ]
    },
    {
      "cell_type": "code",
      "source": [
        "class Net(nn.Module):\n",
        "    def __init__(self):\n",
        "        super(Net, self).__init__()\n",
        "        # Inputblock\n",
        "        self.convblock1 = nn.Sequential(\n",
        "            nn.Conv2d(in_channels=1, out_channels=32, kernel_size=(3,3), padding=1, bias=False),\n",
        "            nn.BatchNorm2d(32),\n",
        "            nn.ReLU(),\n",
        "            nn.Dropout(0.05)\n",
        "        )\n",
        "\n",
        "        # Conv block 1\n",
        "        self.convblock2 = nn.Sequential(\n",
        "            nn.Conv2d(in_channels=32, out_channels=16, kernel_size=(3,3), padding=0, bias=False),\n",
        "            nn.BatchNorm2d(16),\n",
        "            nn.ReLU(),\n",
        "            nn.Dropout(0.05)\n",
        "        )\n",
        "        # Conv block 1\n",
        "        self.convblock3 = nn.Sequential(\n",
        "            nn.Conv2d(in_channels=16, out_channels=16, kernel_size=(1,1), padding=0, bias=False),\n",
        "            nn.BatchNorm2d(16),\n",
        "            nn.ReLU(),\n",
        "            nn.Dropout(0.05)\n",
        "        )\n",
        "        \n",
        "        self.pool1 = nn.MaxPool2d(2,2)\n",
        "\n",
        "\n",
        "        # Conv block 2\n",
        "        self.convblock5 = nn.Sequential(\n",
        "            nn.Conv2d(in_channels=16, out_channels=16, kernel_size=(3,3), padding=0, bias=False),\n",
        "            nn.BatchNorm2d(16),\n",
        "            nn.ReLU(),\n",
        "            nn.Dropout(0.05)\n",
        "        )\n",
        "\n",
        "        # Conv block 2\n",
        "        self.convblock6 = nn.Sequential(\n",
        "            nn.Conv2d(in_channels=16, out_channels=10, kernel_size=(3,3), padding=0, bias=False),\n",
        "            nn.BatchNorm2d(10),\n",
        "            nn.ReLU(),\n",
        "            nn.Dropout(0.05)\n",
        "        )\n",
        "        # OUTPUT BLOCK\n",
        "        self.convblock7 = nn.Sequential(\n",
        "            nn.Conv2d(in_channels=10, out_channels=10, kernel_size=(3, 3), padding=0, bias=False)\n",
        "        ) # output_size = 7\n",
        "        self.gap = nn.Sequential(\n",
        "            nn.AvgPool2d(kernel_size=5)\n",
        "        ) # output_size = 1\n",
        "                # OUTPUT BLOCK\n",
        "        self.convblock8 = nn.Sequential(\n",
        "            nn.Conv2d(in_channels=10, out_channels=10, kernel_size=(1, 1), padding=0, bias=False)\n",
        "        ) # output_size = 7\n",
        "\n",
        " \n",
        "    def forward(self, x):\n",
        "        x = self.convblock1(x)\n",
        "        x = self.convblock2(x)\n",
        "        x = self.convblock3(x)\n",
        "        x = self.pool1(x)\n",
        "        x = self.convblock5(x)\n",
        "        x = self.convblock6(x)\n",
        "        x = self.convblock7(x)\n",
        "        x = self.gap(x)\n",
        "        x = self.convblock8(x)\n",
        "        x = x.view(-1, 10)\n",
        "        return F.log_softmax(x, dim=-1)\n"
      ],
      "metadata": {
        "id": "KVBhiX6fwJOl"
      },
      "execution_count": 37,
      "outputs": []
    },
    {
      "cell_type": "code",
      "source": [
        "! pip install torchsummary\n",
        "from torchsummary import summary\n",
        "use_cuda = torch.cuda.is_available()\n",
        "device = torch.device(\"cuda\" if use_cuda else \"cpu\")\n",
        "print(device)\n",
        "model = Net().to(device)\n",
        "summary(model, input_size=(1,28,28),batch_size=32)"
      ],
      "metadata": {
        "colab": {
          "base_uri": "https://localhost:8080/"
        },
        "id": "VCPDDjq4gaOD",
        "outputId": "26a21042-6e4e-4a40-ae55-32ef7cca06fe"
      },
      "execution_count": 38,
      "outputs": [
        {
          "output_type": "stream",
          "name": "stdout",
          "text": [
            "Looking in indexes: https://pypi.org/simple, https://us-python.pkg.dev/colab-wheels/public/simple/\n",
            "Requirement already satisfied: torchsummary in /usr/local/lib/python3.8/dist-packages (1.5.1)\n",
            "cuda\n",
            "----------------------------------------------------------------\n",
            "        Layer (type)               Output Shape         Param #\n",
            "================================================================\n",
            "            Conv2d-1           [32, 32, 28, 28]             288\n",
            "       BatchNorm2d-2           [32, 32, 28, 28]              64\n",
            "              ReLU-3           [32, 32, 28, 28]               0\n",
            "           Dropout-4           [32, 32, 28, 28]               0\n",
            "            Conv2d-5           [32, 16, 26, 26]           4,608\n",
            "       BatchNorm2d-6           [32, 16, 26, 26]              32\n",
            "              ReLU-7           [32, 16, 26, 26]               0\n",
            "           Dropout-8           [32, 16, 26, 26]               0\n",
            "            Conv2d-9           [32, 16, 26, 26]             256\n",
            "      BatchNorm2d-10           [32, 16, 26, 26]              32\n",
            "             ReLU-11           [32, 16, 26, 26]               0\n",
            "          Dropout-12           [32, 16, 26, 26]               0\n",
            "        MaxPool2d-13           [32, 16, 13, 13]               0\n",
            "           Conv2d-14           [32, 16, 11, 11]           2,304\n",
            "      BatchNorm2d-15           [32, 16, 11, 11]              32\n",
            "             ReLU-16           [32, 16, 11, 11]               0\n",
            "          Dropout-17           [32, 16, 11, 11]               0\n",
            "           Conv2d-18             [32, 10, 9, 9]           1,440\n",
            "      BatchNorm2d-19             [32, 10, 9, 9]              20\n",
            "             ReLU-20             [32, 10, 9, 9]               0\n",
            "          Dropout-21             [32, 10, 9, 9]               0\n",
            "           Conv2d-22             [32, 10, 7, 7]             900\n",
            "        AvgPool2d-23             [32, 10, 1, 1]               0\n",
            "           Conv2d-24             [32, 10, 1, 1]             100\n",
            "================================================================\n",
            "Total params: 10,076\n",
            "Trainable params: 10,076\n",
            "Non-trainable params: 0\n",
            "----------------------------------------------------------------\n",
            "Input size (MB): 0.10\n",
            "Forward/backward pass size (MB): 49.09\n",
            "Params size (MB): 0.04\n",
            "Estimated Total Size (MB): 49.23\n",
            "----------------------------------------------------------------\n"
          ]
        }
      ]
    },
    {
      "cell_type": "code",
      "source": [
        "from tqdm import tqdm\n",
        "train_losses = []\n",
        "test_losses = []\n",
        "train_acc = []\n",
        "test_acc = []\n",
        "\n",
        "def train(model, device, train_loader, optimizer, epoch):\n",
        "  model.train()\n",
        "  pbar = tqdm(train_loader)\n",
        "  correct = 0\n",
        "  processed = 0\n",
        "  for batch_idx, (data, target) in enumerate(pbar):\n",
        "    data, target = data.to(device), target.to(device)\n",
        "    optimizer.zero_grad()\n",
        "    y_pred = model(data)\n",
        "    loss = F.nll_loss(y_pred, target)\n",
        "    train_losses.append(loss)\n",
        "    loss.backward()\n",
        "    optimizer.step()\n",
        "    pred = y_pred.argmax(dim=1, keepdim = True)\n",
        "    correct += pred.eq(target.view_as(pred)).sum().item()\n",
        "    processed+=len(data)\n",
        "\n",
        "    pbar.set_description(desc=f'Loss={loss.item()} Batch_id = {batch_idx} Accuracy = {100*correct/processed:0.2f}')\n",
        "    train_acc.append(100*correct/processed)\n",
        "\n",
        "def test(model, device , test_loader):\n",
        "  model.eval()\n",
        "  test_loss=0\n",
        "  correct=0\n",
        "  with torch.no_grad():\n",
        "    for data, target in test_loader:\n",
        "      data, target = data.to(device), target.to(device)\n",
        "      output=model(data)\n",
        "      test_loss += F.nll_loss(output, target, reduction='sum').item()\n",
        "      pred = output.argmax(dim=1, keepdim=True)\n",
        "      correct += pred.eq(target.view_as(pred)).sum().item()\n",
        "\n",
        "  test_loss /= len(test_loader.dataset)\n",
        "  test_losses.append(test_loss)\n",
        "\n",
        "  print(\"\\n Test set: Avergae loss: {:4f}, Accuracy = {}/{}({:.2f}%)\\n\".format(test_loss, correct, len(test_loader.dataset), 100. *correct/len(test_loader.dataset)))\n",
        "  test_acc.append(100. * correct/len(test_loader.dataset))"
      ],
      "metadata": {
        "id": "vCbVAtWEvh-Q"
      },
      "execution_count": 39,
      "outputs": []
    },
    {
      "cell_type": "code",
      "source": [
        "model = Net().to(device)\n",
        "optimizer = optim.SGD(model.parameters(), lr=0.01, momentum=0.9)\n",
        "EPOCHS=15\n",
        "for epoch in range(EPOCHS):\n",
        "  print(\"EPOCH:\", epoch)\n",
        "  train(model, device, train_loader, optimizer, epoch)\n",
        "  test(model, device, test_loader)"
      ],
      "metadata": {
        "colab": {
          "base_uri": "https://localhost:8080/"
        },
        "id": "vS4vhdkBk_8T",
        "outputId": "f56d1c2d-8c08-49b6-b735-2de4c6cbc61d"
      },
      "execution_count": 40,
      "outputs": [
        {
          "output_type": "stream",
          "name": "stdout",
          "text": [
            "EPOCH: 0\n"
          ]
        },
        {
          "output_type": "stream",
          "name": "stderr",
          "text": [
            "Loss=0.1698882132768631 Batch_id = 468 Accuracy = 82.35: 100%|██████████| 469/469 [00:21<00:00, 21.76it/s]\n"
          ]
        },
        {
          "output_type": "stream",
          "name": "stdout",
          "text": [
            "\n",
            " Test set: Avergae loss: 0.146832, Accuracy = 57518/60000(95.86%)\n",
            "\n",
            "EPOCH: 1\n"
          ]
        },
        {
          "output_type": "stream",
          "name": "stderr",
          "text": [
            "Loss=0.06604643166065216 Batch_id = 468 Accuracy = 96.76: 100%|██████████| 469/469 [00:17<00:00, 26.94it/s]\n"
          ]
        },
        {
          "output_type": "stream",
          "name": "stdout",
          "text": [
            "\n",
            " Test set: Avergae loss: 0.077510, Accuracy = 58610/60000(97.68%)\n",
            "\n",
            "EPOCH: 2\n"
          ]
        },
        {
          "output_type": "stream",
          "name": "stderr",
          "text": [
            "Loss=0.15583419799804688 Batch_id = 468 Accuracy = 97.71: 100%|██████████| 469/469 [00:17<00:00, 27.46it/s]\n"
          ]
        },
        {
          "output_type": "stream",
          "name": "stdout",
          "text": [
            "\n",
            " Test set: Avergae loss: 0.090818, Accuracy = 58334/60000(97.22%)\n",
            "\n",
            "EPOCH: 3\n"
          ]
        },
        {
          "output_type": "stream",
          "name": "stderr",
          "text": [
            "Loss=0.07469593733549118 Batch_id = 468 Accuracy = 98.02: 100%|██████████| 469/469 [00:17<00:00, 26.49it/s]\n"
          ]
        },
        {
          "output_type": "stream",
          "name": "stdout",
          "text": [
            "\n",
            " Test set: Avergae loss: 0.044653, Accuracy = 59240/60000(98.73%)\n",
            "\n",
            "EPOCH: 4\n"
          ]
        },
        {
          "output_type": "stream",
          "name": "stderr",
          "text": [
            "Loss=0.07657995820045471 Batch_id = 468 Accuracy = 98.10: 100%|██████████| 469/469 [00:17<00:00, 27.37it/s]\n"
          ]
        },
        {
          "output_type": "stream",
          "name": "stdout",
          "text": [
            "\n",
            " Test set: Avergae loss: 0.051080, Accuracy = 59044/60000(98.41%)\n",
            "\n",
            "EPOCH: 5\n"
          ]
        },
        {
          "output_type": "stream",
          "name": "stderr",
          "text": [
            "Loss=0.013612709939479828 Batch_id = 468 Accuracy = 98.41: 100%|██████████| 469/469 [00:17<00:00, 27.47it/s]\n"
          ]
        },
        {
          "output_type": "stream",
          "name": "stdout",
          "text": [
            "\n",
            " Test set: Avergae loss: 0.041320, Accuracy = 59216/60000(98.69%)\n",
            "\n",
            "EPOCH: 6\n"
          ]
        },
        {
          "output_type": "stream",
          "name": "stderr",
          "text": [
            "Loss=0.10125892609357834 Batch_id = 468 Accuracy = 98.48: 100%|██████████| 469/469 [00:16<00:00, 27.70it/s]\n"
          ]
        },
        {
          "output_type": "stream",
          "name": "stdout",
          "text": [
            "\n",
            " Test set: Avergae loss: 0.034326, Accuracy = 59367/60000(98.94%)\n",
            "\n",
            "EPOCH: 7\n"
          ]
        },
        {
          "output_type": "stream",
          "name": "stderr",
          "text": [
            "Loss=0.04876561835408211 Batch_id = 468 Accuracy = 98.55: 100%|██████████| 469/469 [00:17<00:00, 26.96it/s]\n"
          ]
        },
        {
          "output_type": "stream",
          "name": "stdout",
          "text": [
            "\n",
            " Test set: Avergae loss: 0.040179, Accuracy = 59251/60000(98.75%)\n",
            "\n",
            "EPOCH: 8\n"
          ]
        },
        {
          "output_type": "stream",
          "name": "stderr",
          "text": [
            "Loss=0.03257971629500389 Batch_id = 468 Accuracy = 98.62: 100%|██████████| 469/469 [00:17<00:00, 27.22it/s]\n"
          ]
        },
        {
          "output_type": "stream",
          "name": "stdout",
          "text": [
            "\n",
            " Test set: Avergae loss: 0.029812, Accuracy = 59461/60000(99.10%)\n",
            "\n",
            "EPOCH: 9\n"
          ]
        },
        {
          "output_type": "stream",
          "name": "stderr",
          "text": [
            "Loss=0.0138598857447505 Batch_id = 468 Accuracy = 98.71: 100%|██████████| 469/469 [00:17<00:00, 27.07it/s]\n"
          ]
        },
        {
          "output_type": "stream",
          "name": "stdout",
          "text": [
            "\n",
            " Test set: Avergae loss: 0.026126, Accuracy = 59528/60000(99.21%)\n",
            "\n",
            "EPOCH: 10\n"
          ]
        },
        {
          "output_type": "stream",
          "name": "stderr",
          "text": [
            "Loss=0.014238663949072361 Batch_id = 468 Accuracy = 98.72: 100%|██████████| 469/469 [00:17<00:00, 27.11it/s]\n"
          ]
        },
        {
          "output_type": "stream",
          "name": "stdout",
          "text": [
            "\n",
            " Test set: Avergae loss: 0.028585, Accuracy = 59451/60000(99.08%)\n",
            "\n",
            "EPOCH: 11\n"
          ]
        },
        {
          "output_type": "stream",
          "name": "stderr",
          "text": [
            "Loss=0.0320780873298645 Batch_id = 468 Accuracy = 98.75: 100%|██████████| 469/469 [00:17<00:00, 27.36it/s]\n"
          ]
        },
        {
          "output_type": "stream",
          "name": "stdout",
          "text": [
            "\n",
            " Test set: Avergae loss: 0.030636, Accuracy = 59416/60000(99.03%)\n",
            "\n",
            "EPOCH: 12\n"
          ]
        },
        {
          "output_type": "stream",
          "name": "stderr",
          "text": [
            "Loss=0.02422669716179371 Batch_id = 468 Accuracy = 98.93: 100%|██████████| 469/469 [00:17<00:00, 27.28it/s]\n"
          ]
        },
        {
          "output_type": "stream",
          "name": "stdout",
          "text": [
            "\n",
            " Test set: Avergae loss: 0.025157, Accuracy = 59545/60000(99.24%)\n",
            "\n",
            "EPOCH: 13\n"
          ]
        },
        {
          "output_type": "stream",
          "name": "stderr",
          "text": [
            "Loss=0.13206680119037628 Batch_id = 468 Accuracy = 98.91: 100%|██████████| 469/469 [00:16<00:00, 27.63it/s]\n"
          ]
        },
        {
          "output_type": "stream",
          "name": "stdout",
          "text": [
            "\n",
            " Test set: Avergae loss: 0.031748, Accuracy = 59416/60000(99.03%)\n",
            "\n",
            "EPOCH: 14\n"
          ]
        },
        {
          "output_type": "stream",
          "name": "stderr",
          "text": [
            "Loss=0.034962479025125504 Batch_id = 468 Accuracy = 98.87: 100%|██████████| 469/469 [00:16<00:00, 27.76it/s]\n"
          ]
        },
        {
          "output_type": "stream",
          "name": "stdout",
          "text": [
            "\n",
            " Test set: Avergae loss: 0.023997, Accuracy = 59558/60000(99.26%)\n",
            "\n"
          ]
        }
      ]
    },
    {
      "cell_type": "markdown",
      "source": [
        "**Target:**\\\n",
        "Use Max pooling at proper place\\\n",
        "Use Image transforms (rotation)\n",
        "\n",
        "**Results:**\\\n",
        "Parameters: 10076\\\n",
        "Best Training Accuracy: 98.93\\\n",
        "Best Test Accuracy: 99.26\n",
        "\n",
        "**Analysis:**\\\n",
        "Model is not performing as expected Accuracy is reaching till 99.26 percent only"
      ],
      "metadata": {
        "id": "86LlQFxPmTjg"
      }
    },
    {
      "cell_type": "code",
      "source": [],
      "metadata": {
        "id": "pSrViyf9SDlI"
      },
      "execution_count": null,
      "outputs": []
    }
  ]
}